{
  "nbformat": 4,
  "nbformat_minor": 0,
  "metadata": {
    "colab": {
      "name": "MNIST_LDA_QDA.ipynb",
      "provenance": [],
      "collapsed_sections": []
    },
    "kernelspec": {
      "name": "python3",
      "display_name": "Python 3"
    },
    "language_info": {
      "name": "python"
    }
  },
  "cells": [
    {
      "cell_type": "code",
      "metadata": {
        "colab": {
          "base_uri": "https://localhost:8080/"
        },
        "id": "rCLnJIJibU4c",
        "outputId": "3ab606dc-f574-4a13-bc84-78d895e7ea93"
      },
      "source": [
        "from google.colab import drive\n",
        "drive.mount('/gdrive')\n",
        "root = '/gdrive/My Drive/Colab Notebooks/data/MNIST/MNIST'"
      ],
      "execution_count": 52,
      "outputs": [
        {
          "output_type": "stream",
          "text": [
            "Mounted at /gdrive\n"
          ],
          "name": "stdout"
        }
      ]
    },
    {
      "cell_type": "code",
      "metadata": {
        "id": "3zZOvgWobtWq"
      },
      "source": [
        "import numpy as np\n",
        "import matplotlib.pyplot as plt\n",
        "from scipy.io import loadmat\n",
        "import os"
      ],
      "execution_count": 4,
      "outputs": []
    },
    {
      "cell_type": "markdown",
      "metadata": {
        "id": "68ELmcbViOoc"
      },
      "source": [
        "The following training and test data is for the **Unrotated** MNIST dataset."
      ]
    },
    {
      "cell_type": "code",
      "metadata": {
        "id": "un1qZ_QFcMgo"
      },
      "source": [
        "x = loadmat(os.path.join(root, 'mnist_training_data' ))['training_data']\n",
        "y = loadmat(os.path.join(root, 'mnist_training_label'))['training_label']\n",
        "\n",
        "X_test = loadmat(os.path.join(root, 'mnist_test_data'))['test_data']\n",
        "y_test = loadmat(os.path.join(root, 'mnist_test_label'))['test_label']"
      ],
      "execution_count": 14,
      "outputs": []
    },
    {
      "cell_type": "code",
      "metadata": {
        "colab": {
          "base_uri": "https://localhost:8080/"
        },
        "id": "Gs-1iV2Ee8dd",
        "outputId": "15aaee49-a201-4423-abf5-c0534b0d08db"
      },
      "source": [
        "y"
      ],
      "execution_count": 18,
      "outputs": [
        {
          "output_type": "execute_result",
          "data": {
            "text/plain": [
              "array([[0],\n",
              "       [0],\n",
              "       [0],\n",
              "       ...,\n",
              "       [9],\n",
              "       [9],\n",
              "       [9]], dtype=uint8)"
            ]
          },
          "metadata": {
            "tags": []
          },
          "execution_count": 18
        }
      ]
    },
    {
      "cell_type": "markdown",
      "metadata": {
        "id": "ymSyUop7e148"
      },
      "source": [
        "The observations are ordered with respect to their labels. Hence we will shuffle them so that there is no apparent order."
      ]
    },
    {
      "cell_type": "code",
      "metadata": {
        "id": "oF11aHHUdVvQ"
      },
      "source": [
        "shuffled_indices=np.random.permutation(len(x))\n",
        "x=x[shuffled_indices]\n",
        "y=y[shuffled_indices]"
      ],
      "execution_count": 20,
      "outputs": []
    },
    {
      "cell_type": "code",
      "metadata": {
        "colab": {
          "base_uri": "https://localhost:8080/",
          "height": 510
        },
        "id": "s7paIsnifzAz",
        "outputId": "6d8eb6ac-1e01-4e9e-af36-33dc8c174b4c"
      },
      "source": [
        "# Plotting a few observations\n",
        "j=1\n",
        "plt.figure(figsize=(15,7.5))\n",
        "for i in np.arange(20):\n",
        "  plt.suptitle('Sample Images')\n",
        "  plt.subplot(4,5,j)\n",
        "  plt.imshow(np.reshape(x[i],(28,28)))\n",
        "  j=j+1"
      ],
      "execution_count": 24,
      "outputs": [
        {
          "output_type": "display_data",
          "data": {
            "image/png": "[encoded data removed]",
            "text/plain": [
              "<Figure size 1080x540 with 20 Axes>"
            ]
          },
          "metadata": {
            "tags": [],
            "needs_background": "light"
          }
        }
      ]
    },
    {
      "cell_type": "markdown",
      "metadata": {
        "id": "5Wtnq8UKjFan"
      },
      "source": [
        "# Linear Discriminant Analysis"
      ]
    },
    {
      "cell_type": "code",
      "metadata": {
        "id": "qspl-SBKiLps"
      },
      "source": [
        "# Required packages\n",
        "from sklearn.discriminant_analysis import LinearDiscriminantAnalysis\n",
        "from sklearn import metrics"
      ],
      "execution_count": 25,
      "outputs": []
    },
    {
      "cell_type": "code",
      "metadata": {
        "id": "0nKCMYgCkn0C"
      },
      "source": [
        "# Defining the linear discriminant model\n",
        "lin_clf=LinearDiscriminantAnalysis()"
      ],
      "execution_count": 26,
      "outputs": []
    },
    {
      "cell_type": "code",
      "metadata": {
        "colab": {
          "base_uri": "https://localhost:8080/"
        },
        "id": "hU5DtvTDlO0d",
        "outputId": "793e8664-40f8-4f7e-e12b-6b3d957f96fc"
      },
      "source": [
        "# Fitting the given training data\n",
        "lin_clf.fit(x,y)"
      ],
      "execution_count": 27,
      "outputs": [
        {
          "output_type": "stream",
          "text": [
            "/usr/local/lib/python3.7/dist-packages/sklearn/utils/validation.py:760: DataConversionWarning: A column-vector y was passed when a 1d array was expected. Please change the shape of y to (n_samples, ), for example using ravel().\n",
            "  y = column_or_1d(y, warn=True)\n"
          ],
          "name": "stderr"
        },
        {
          "output_type": "execute_result",
          "data": {
            "text/plain": [
              "LinearDiscriminantAnalysis(n_components=None, priors=None, shrinkage=None,\n",
              "                           solver='svd', store_covariance=False, tol=0.0001)"
            ]
          },
          "metadata": {
            "tags": []
          },
          "execution_count": 27
        }
      ]
    },
    {
      "cell_type": "code",
      "metadata": {
        "id": "uYsu5A_FnKNB"
      },
      "source": [
        "y_tr_lda=lin_clf.predict(x) # Predicting the labels for the observations on the training set"
      ],
      "execution_count": 46,
      "outputs": []
    },
    {
      "cell_type": "code",
      "metadata": {
        "id": "1E88yleAk7yI"
      },
      "source": [
        "y_pred_lda=lin_clf.predict(X_test) # Predicting the labels for the observations in the test set"
      ],
      "execution_count": 36,
      "outputs": []
    },
    {
      "cell_type": "code",
      "metadata": {
        "colab": {
          "base_uri": "https://localhost:8080/"
        },
        "id": "DXWqw_tkmUn0",
        "outputId": "486c3108-a7b5-4086-ac48-ce71b91509a3"
      },
      "source": [
        "print(f'The train accuracy of LDA model is:',metrics.accuracy_score(y,y_tr_lda))\n",
        "print(f'The test accuracy  of LDA model is:',metrics.accuracy_score(y_test,y_pred_lda))"
      ],
      "execution_count": 49,
      "outputs": [
        {
          "output_type": "stream",
          "text": [
            "The train accuracy of LDA model is: 0.8696\n",
            "The test accuracy  of LDA model is: 0.8722\n"
          ],
          "name": "stdout"
        }
      ]
    },
    {
      "cell_type": "markdown",
      "metadata": {
        "id": "cfxWIEafnlPD"
      },
      "source": [
        "# Quadratic Discriminant Analysis"
      ]
    },
    {
      "cell_type": "code",
      "metadata": {
        "id": "7PCzQJiSnk0-"
      },
      "source": [
        "from sklearn.discriminant_analysis import QuadraticDiscriminantAnalysis"
      ],
      "execution_count": 43,
      "outputs": []
    },
    {
      "cell_type": "code",
      "metadata": {
        "id": "-xIwK_q9n3fp"
      },
      "source": [
        "# Defining the Quadratic Driminant model\n",
        "quad_clf=QuadraticDiscriminantAnalysis()"
      ],
      "execution_count": 44,
      "outputs": []
    },
    {
      "cell_type": "code",
      "metadata": {
        "colab": {
          "base_uri": "https://localhost:8080/"
        },
        "id": "mt5CY4oQoAdL",
        "outputId": "13e044a0-50b0-4c43-c421-4497e98d5f43"
      },
      "source": [
        "# Fitting the given training data\n",
        "quad_clf.fit(x,y)"
      ],
      "execution_count": 45,
      "outputs": [
        {
          "output_type": "stream",
          "text": [
            "/usr/local/lib/python3.7/dist-packages/sklearn/utils/validation.py:760: DataConversionWarning: A column-vector y was passed when a 1d array was expected. Please change the shape of y to (n_samples, ), for example using ravel().\n",
            "  y = column_or_1d(y, warn=True)\n",
            "/usr/local/lib/python3.7/dist-packages/sklearn/discriminant_analysis.py:691: UserWarning: Variables are collinear\n",
            "  warnings.warn(\"Variables are collinear\")\n"
          ],
          "name": "stderr"
        },
        {
          "output_type": "execute_result",
          "data": {
            "text/plain": [
              "QuadraticDiscriminantAnalysis(priors=None, reg_param=0.0,\n",
              "                              store_covariance=False, tol=0.0001)"
            ]
          },
          "metadata": {
            "tags": []
          },
          "execution_count": 45
        }
      ]
    },
    {
      "cell_type": "code",
      "metadata": {
        "id": "7BsKts6goTw1"
      },
      "source": [
        "y_tr_qda=quad_clf.predict(x) # Predicting the labels for the observations on the training set"
      ],
      "execution_count": 47,
      "outputs": []
    },
    {
      "cell_type": "code",
      "metadata": {
        "id": "YFy4jJwIoTw1"
      },
      "source": [
        "y_pred_qda=quad_clf.predict(X_test) # Predicting the labels for the observations in the test set"
      ],
      "execution_count": 48,
      "outputs": []
    },
    {
      "cell_type": "code",
      "metadata": {
        "colab": {
          "base_uri": "https://localhost:8080/"
        },
        "id": "WYCoHRnKomcu",
        "outputId": "dc678de7-a9f0-49f7-b757-f7e8fd6c32f3"
      },
      "source": [
        "print(f'The train accuracy of QDA model is:',metrics.accuracy_score(y,y_tr_qda))\n",
        "print(f'The test accuracy  of QDA model is:',metrics.accuracy_score(y_test,y_pred_qda))"
      ],
      "execution_count": 50,
      "outputs": [
        {
          "output_type": "stream",
          "text": [
            "The train accuracy of QDA model is: 0.56486\n",
            "The test accuracy  of QDA model is: 0.5428\n"
          ],
          "name": "stdout"
        }
      ]
    },
    {
      "cell_type": "markdown",
      "metadata": {
        "id": "sQrekDCEo37u"
      },
      "source": [
        "We notice that training and test accuracy has decreased in case of Quadratic Discriminative Analysis model than that was the case in Linear Discriminative Analysis model.<br>\n",
        "This indicates that our assumption that the population distribution is multivariate normal is a quite valid assumption owing to the high test accuracy of LDA. However, the assumption that the variance and covariance differs for different classes might not be a correct assumption owing to the drop in test accuracy for QDA."
      ]
    },
    {
      "cell_type": "markdown",
      "metadata": {
        "id": "bbe1h06uvjoV"
      },
      "source": [
        "# Applying LDA and QDA using Principal Components"
      ]
    },
    {
      "cell_type": "markdown",
      "metadata": {
        "id": "itFNSyIz6smw"
      },
      "source": [
        "First we standardize the features"
      ]
    },
    {
      "cell_type": "code",
      "metadata": {
        "id": "ZwbC__sB6vdT"
      },
      "source": [
        "from sklearn.preprocessing import StandardScaler\n",
        "scaler = StandardScaler()\n",
        "# Fit on training set only.\n",
        "scaler.fit(x)\n",
        "# Apply transform to both the training set\n",
        "x_sc = scaler.transform(x)\n",
        "\n",
        "# Fit on test set only.\n",
        "scaler.fit(X_test)\n",
        "# Apply transform to both the training set\n",
        "x_test_sc = scaler.transform(X_test)"
      ],
      "execution_count": 119,
      "outputs": []
    },
    {
      "cell_type": "code",
      "metadata": {
        "id": "_t4It6rjvxoS"
      },
      "source": [
        "from sklearn.decomposition import PCA"
      ],
      "execution_count": 81,
      "outputs": []
    },
    {
      "cell_type": "markdown",
      "metadata": {
        "id": "V3an5ZzEwauZ"
      },
      "source": [
        "There can be at most $\\min (n-1,p)$ number of principal components that can be evaluated. Our target is to reduce the dimension of the feature space (which is currently p=784) also keeping in mind that the variability of the original features gets explained to the maximum possible degree."
      ]
    },
    {
      "cell_type": "code",
      "metadata": {
        "id": "I7rgOXM4xKxS"
      },
      "source": [
        "pca=PCA(n_components=784)\n",
        "p_comp=pca.fit_transform(x_sc)"
      ],
      "execution_count": 132,
      "outputs": []
    },
    {
      "cell_type": "markdown",
      "metadata": {
        "id": "dFxEv_FE18s_"
      },
      "source": [
        "We plot the cumulative proportion of variability explained by the principal components in decreasing order of the relative inportance of the said components."
      ]
    },
    {
      "cell_type": "markdown",
      "metadata": {
        "id": "Gf8q0FTY2Lw8"
      },
      "source": [
        "We will work with that number of principal components that explain 90% of the total variability in our feature space."
      ]
    },
    {
      "cell_type": "code",
      "metadata": {
        "colab": {
          "base_uri": "https://localhost:8080/"
        },
        "id": "iU4mXCCn2WaE",
        "outputId": "5bb374ce-9c71-44d2-df65-c7b803193d55"
      },
      "source": [
        "k=len(np.cumsum(pca.explained_variance_ratio_)[np.cumsum(pca.explained_variance_ratio_)<=0.9])\n",
        "k+1"
      ],
      "execution_count": 129,
      "outputs": [
        {
          "output_type": "execute_result",
          "data": {
            "text/plain": [
              "234"
            ]
          },
          "metadata": {
            "tags": []
          },
          "execution_count": 129
        }
      ]
    },
    {
      "cell_type": "code",
      "metadata": {
        "colab": {
          "base_uri": "https://localhost:8080/",
          "height": 297
        },
        "id": "kh29J0ZuxR3y",
        "outputId": "a8329027-3d3c-4d54-ee78-f032c1dc691d"
      },
      "source": [
        "# Plotting the cumulative explained variability in feature space as a function of principal components in increasing importance\n",
        "plt.plot(np.arange(1,784+1,1),np.cumsum(pca.explained_variance_ratio_))\n",
        "plt.axhline(y=0.9,color='red')\n",
        "plt.axvline(x=k+1,color='green',linestyle='--')      \n",
        "plt.title('Explained proportion of variance vs Principal Components')\n",
        "plt.xlabel('Principal Components')\n",
        "plt.ylabel('Cumulative proportion of total variance explained')\n",
        "plt.yticks(np.arange(0, 1.1, 0.1))\n",
        "plt.tight_layout()"
      ],
      "execution_count": 133,
      "outputs": [
        {
          "output_type": "display_data",
          "data": {
            "image/png": "[encoded data removed]",
            "text/plain": [
              "<Figure size 432x288 with 1 Axes>"
            ]
          },
          "metadata": {
            "tags": [],
            "needs_background": "light"
          }
        }
      ]
    },
    {
      "cell_type": "markdown",
      "metadata": {
        "id": "QYQZezdu36no"
      },
      "source": [
        "Thus, we will be using the first 234 principal components as it explains 90% of the variability in our feature space."
      ]
    },
    {
      "cell_type": "code",
      "metadata": {
        "id": "5c0XEb-74tBU"
      },
      "source": [
        "pca=PCA(0.9)\n",
        "p_comp=pca.fit_transform(x_sc)  # Transformed feature space containing first 234 principal components"
      ],
      "execution_count": 138,
      "outputs": []
    },
    {
      "cell_type": "code",
      "metadata": {
        "colab": {
          "base_uri": "https://localhost:8080/",
          "height": 290
        },
        "id": "5AQq0_yy45rl",
        "outputId": "4e8f364b-ce39-4018-90f0-ab347d51ba4b"
      },
      "source": [
        "# We will plot the 'scaled' images as obtained from the original training data and the first 234 principal components\n",
        "\n",
        "plt.figure(figsize=(8,4));\n",
        "\n",
        "# Original Image\n",
        "plt.subplot(1, 2, 1);\n",
        "plt.imshow(x[45].reshape(28,28));\n",
        "plt.xlabel('784 components', fontsize = 14)\n",
        "plt.title('Original Image', fontsize = 20);\n",
        "\n",
        "# 234 principal components\n",
        "plt.subplot(1, 2, 2);\n",
        "plt.imshow(pca.inverse_transform(p_comp)[45].reshape(28, 28));\n",
        "plt.xlabel('234 components', fontsize = 14)\n",
        "plt.title('90% of Explained Variance', fontsize = 20);"
      ],
      "execution_count": 142,
      "outputs": [
        {
          "output_type": "display_data",
          "data": {
            "image/png": "[encoded data removed]",
            "text/plain": [
              "<Figure size 576x288 with 2 Axes>"
            ]
          },
          "metadata": {
            "tags": [],
            "needs_background": "light"
          }
        }
      ]
    },
    {
      "cell_type": "markdown",
      "metadata": {
        "id": "qBH0j6y09afU"
      },
      "source": [
        "Now we will try to fit the LDA and QDA models on this principal components."
      ]
    },
    {
      "cell_type": "code",
      "metadata": {
        "colab": {
          "base_uri": "https://localhost:8080/"
        },
        "id": "XEXQdBFr9ZTL",
        "outputId": "bd2ccac8-0937-4ab0-f2db-a6b7b26cfac6"
      },
      "source": [
        "lin_clf.fit(p_comp,y)  # Fitting the LDA model\n",
        "quad_clf.fit(p_comp,y) # Fitting the QDA model"
      ],
      "execution_count": 143,
      "outputs": [
        {
          "output_type": "stream",
          "text": [
            "/usr/local/lib/python3.7/dist-packages/sklearn/utils/validation.py:760: DataConversionWarning: A column-vector y was passed when a 1d array was expected. Please change the shape of y to (n_samples, ), for example using ravel().\n",
            "  y = column_or_1d(y, warn=True)\n",
            "/usr/local/lib/python3.7/dist-packages/sklearn/utils/validation.py:760: DataConversionWarning: A column-vector y was passed when a 1d array was expected. Please change the shape of y to (n_samples, ), for example using ravel().\n",
            "  y = column_or_1d(y, warn=True)\n"
          ],
          "name": "stderr"
        },
        {
          "output_type": "execute_result",
          "data": {
            "text/plain": [
              "QuadraticDiscriminantAnalysis(priors=None, reg_param=0.0,\n",
              "                              store_covariance=False, tol=0.0001)"
            ]
          },
          "metadata": {
            "tags": []
          },
          "execution_count": 143
        }
      ]
    },
    {
      "cell_type": "code",
      "metadata": {
        "id": "99TqnqJuB4RQ"
      },
      "source": [
        "# We fix the loadings in the direction of the training data feature space principal components\n",
        "pca=PCA(n_components=234)\n",
        "p_comp=pca.fit(x_sc)"
      ],
      "execution_count": 156,
      "outputs": []
    },
    {
      "cell_type": "code",
      "metadata": {
        "id": "35zSicHW-Gb0"
      },
      "source": [
        "x_test_pc=pca.transform(x_test_sc)   # Evaluating the first 234 principal components of test feature space"
      ],
      "execution_count": 157,
      "outputs": []
    },
    {
      "cell_type": "code",
      "metadata": {
        "id": "xcUzW8-j_DGR"
      },
      "source": [
        "y_pc_lda_test=lin_clf.predict(x_test_pc)    # Predicting the labels of test data set using LDA model\n",
        "y_pc_qda_test=quad_clf.predict(x_test_pc)   # Predicting the labels of test data set using QDA model"
      ],
      "execution_count": 158,
      "outputs": []
    },
    {
      "cell_type": "code",
      "metadata": {
        "colab": {
          "base_uri": "https://localhost:8080/"
        },
        "id": "_GgWB4NH_hDl",
        "outputId": "675d31ab-469d-422a-b888-106b9e654db6"
      },
      "source": [
        "print(f'The test accuracy of LDA using first 234 principal components is', metrics.accuracy_score(y_test,y_pc_lda_test))\n",
        "print(f'The test accuracy of QDA using first 234 principal components is', metrics.accuracy_score(y_test,y_pc_qda_test))"
      ],
      "execution_count": 159,
      "outputs": [
        {
          "output_type": "stream",
          "text": [
            "The test accuracy of LDA using first 234 principal components is 0.8722\n",
            "The test accuracy of QDA using first 234 principal components is 0.1363\n"
          ],
          "name": "stdout"
        }
      ]
    },
    {
      "cell_type": "markdown",
      "metadata": {
        "id": "vVzM66ziAgE_"
      },
      "source": [
        "Evidently LDA performs as well as the model defined by first 234 principal components and QDA does not perform well when the principal components are used.<br><br> This further is an indication that the assumption that the data might be inherently *linearly separable* must not be far from truth."
      ]
    },
    {
      "cell_type": "markdown",
      "metadata": {
        "id": "lk3AenWNqrAf"
      },
      "source": [
        "# Now we will try predicting the labels of rotated MNIST dataset."
      ]
    },
    {
      "cell_type": "code",
      "metadata": {
        "id": "dRiXc_MjpwIA"
      },
      "source": [
        "x_rot_test = loadmat(os.path.join(root, 'mnist-rot_test_data'))['test_data']\n",
        "y_rot_test = loadmat(os.path.join(root, 'mnist-rot_test_label'))['test_label']"
      ],
      "execution_count": 56,
      "outputs": []
    },
    {
      "cell_type": "code",
      "metadata": {
        "id": "KsQCUqSHsRYR"
      },
      "source": [
        "x_rot_test=x_rot_test.reshape((10000,784))"
      ],
      "execution_count": 70,
      "outputs": []
    },
    {
      "cell_type": "code",
      "metadata": {
        "id": "8sofHs6VtQan"
      },
      "source": [
        "y_rot_test=y_rot_test.reshape((10000,1))"
      ],
      "execution_count": 77,
      "outputs": []
    },
    {
      "cell_type": "code",
      "metadata": {
        "colab": {
          "base_uri": "https://localhost:8080/",
          "height": 510
        },
        "id": "JlnZv_7wqfMO",
        "outputId": "5c2eeeb8-7c01-4122-b329-e5a1e2f1b286"
      },
      "source": [
        "# Plotting a few rotated observations\n",
        "j=1\n",
        "plt.figure(figsize=(15,7.5))\n",
        "for i in np.arange(20):\n",
        "  plt.suptitle('Sample Images')\n",
        "  plt.subplot(4,5,j)\n",
        "  plt.imshow(x_rot_test[i].reshape((28,28)))\n",
        "  j=j+1"
      ],
      "execution_count": 71,
      "outputs": [
        {
          "output_type": "display_data",
          "data": {
            "image/png": "[encoded data removed]",
            "text/plain": [
              "<Figure size 1080x540 with 20 Axes>"
            ]
          },
          "metadata": {
            "tags": [],
            "needs_background": "light"
          }
        }
      ]
    },
    {
      "cell_type": "code",
      "metadata": {
        "id": "nfWTkSXPrJz9"
      },
      "source": [
        "y_rot_lda=lin_clf.predict(x_rot_test)  # Prediction using LDA model\n",
        "y_rot_qda=quad_clf.predict(x_rot_test)  # Prediction using QDA model"
      ],
      "execution_count": 73,
      "outputs": []
    },
    {
      "cell_type": "code",
      "metadata": {
        "colab": {
          "base_uri": "https://localhost:8080/"
        },
        "id": "USbdy7rUrlDu",
        "outputId": "13f25283-c1aa-4c31-e46c-e44fbbc289ab"
      },
      "source": [
        "print(f'The train accuracy of LDA model on rotated dataset is:',metrics.accuracy_score(y_rot_test,lin_clf.predict(x_rot_test)))\n",
        "print(f'The test accuracy  of QDA model on rotated dataset is:',metrics.accuracy_score(y_rot_test,quad_clf.predict(x_rot_test)))"
      ],
      "execution_count": 78,
      "outputs": [
        {
          "output_type": "stream",
          "text": [
            "The train accuracy of LDA model on rotated dataset is: 0.0939\n",
            "The test accuracy  of QDA model on rotated dataset is: 0.0997\n"
          ],
          "name": "stdout"
        }
      ]
    },
    {
      "cell_type": "markdown",
      "metadata": {
        "id": "XpXR_5lstfWI"
      },
      "source": [
        "The drastic loss in accuracy indicates the fact that both LDA and QDA works better when the training and test observations are similar in type.<br> In this case, we can get an understanding that a new model might be required to account into the cases of rotated labels."
      ]
    }
  ]
}
