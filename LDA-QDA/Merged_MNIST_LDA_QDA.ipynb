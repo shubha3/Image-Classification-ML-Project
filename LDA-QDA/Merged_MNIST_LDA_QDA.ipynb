{
  "nbformat": 4,
  "nbformat_minor": 0,
  "metadata": {
    "colab": {
      "name": "Merged-MNIST-LDA-QDA.ipynb",
      "provenance": []
    },
    "kernelspec": {
      "name": "python3",
      "display_name": "Python 3"
    },
    "language_info": {
      "name": "python"
    }
  },
  "cells": [
    {
      "cell_type": "code",
      "metadata": {
        "colab": {
          "base_uri": "https://localhost:8080/"
        },
        "id": "Btjt2p4Skuai",
        "outputId": "726e49b2-dd63-43eb-fbf8-51c32223eb76"
      },
      "source": [
        "from google.colab import drive\n",
        "drive.mount('/gdrive')\n",
        "root = '/gdrive/My Drive/Colab Notebooks/data/MNIST/MNIST'"
      ],
      "execution_count": 4,
      "outputs": [
        {
          "output_type": "stream",
          "text": [
            "Mounted at /gdrive\n"
          ],
          "name": "stdout"
        }
      ]
    },
    {
      "cell_type": "code",
      "metadata": {
        "id": "-2iAJQQ_k7fa"
      },
      "source": [
        "import numpy as np\n",
        "import matplotlib.pyplot as plt\n",
        "from scipy.io import loadmat\n",
        "import os"
      ],
      "execution_count": 2,
      "outputs": []
    },
    {
      "cell_type": "code",
      "metadata": {
        "id": "qYfHo370lACJ"
      },
      "source": [
        "# Unrotated data training set\n",
        "x = loadmat(os.path.join(root, 'mnist_training_data' ))['training_data']\n",
        "y = loadmat(os.path.join(root, 'mnist_training_label'))['training_label']\n",
        "\n",
        "# Unrotated data test set\n",
        "x_test = loadmat(os.path.join(root, 'mnist_test_data'))['test_data']\n",
        "y_test = loadmat(os.path.join(root, 'mnist_test_label'))['test_label']\n",
        "\n",
        "# Rotated data training set\n",
        "x_rot = loadmat(os.path.join(root,'mnist-rot_training_data'))['train_data']\n",
        "y_rot = loadmat(os.path.join(root,'mnist-rot_training_label'))['train_label']\n",
        "\n",
        "# Rotated data test set\n",
        "x_rot_test = loadmat(os.path.join(root,'mnist-rot_test_data'))['test_data']\n",
        "y_rot_test = loadmat(os.path.join(root,'mnist-rot_test_label'))['test_label']"
      ],
      "execution_count": 18,
      "outputs": []
    },
    {
      "cell_type": "markdown",
      "metadata": {
        "id": "FZhEloaDnwg9"
      },
      "source": [
        "### Now we will merge the training and test data from the unrotated and rotated datasets to obtain a single larger training and testing sample"
      ]
    },
    {
      "cell_type": "code",
      "metadata": {
        "colab": {
          "base_uri": "https://localhost:8080/"
        },
        "id": "PDdE_I-OoUTi",
        "outputId": "3d940f64-457a-40e7-95ff-12e8f1d1228a"
      },
      "source": [
        "x_rot_test.shape"
      ],
      "execution_count": 19,
      "outputs": [
        {
          "output_type": "execute_result",
          "data": {
            "text/plain": [
              "(10000, 28, 28)"
            ]
          },
          "metadata": {
            "tags": []
          },
          "execution_count": 19
        }
      ]
    },
    {
      "cell_type": "code",
      "metadata": {
        "id": "6xcSFemtoAlY"
      },
      "source": [
        "# Merged training data and labels\n",
        "x_tr=np.concatenate((x,x_rot.reshape((12000,784))))\n",
        "y_tr=np.concatenate((y,y_rot.T))\n",
        "\n",
        "# Merged test data and labels\n",
        "x_t = np.concatenate((x_test,x_rot_test.reshape((10000,784))))\n",
        "y_t = np.concatenate((y_test,y_rot_test.T))"
      ],
      "execution_count": 20,
      "outputs": []
    },
    {
      "cell_type": "code",
      "metadata": {
        "id": "hIaX2O0gp3i8"
      },
      "source": [
        "# Randomly shuffling the arrangement of the data and labels\n",
        "shuffled_indices=np.random.permutation(len(x_tr))\n",
        "x_tr=x_tr[shuffled_indices]\n",
        "y_tr=y_tr[shuffled_indices]"
      ],
      "execution_count": 21,
      "outputs": []
    },
    {
      "cell_type": "code",
      "metadata": {
        "id": "nEeoERHiqS7X"
      },
      "source": [
        ""
      ],
      "execution_count": null,
      "outputs": []
    },
    {
      "cell_type": "code",
      "metadata": {
        "colab": {
          "base_uri": "https://localhost:8080/",
          "height": 510
        },
        "id": "JqrKZ835qDJz",
        "outputId": "12702e87-568f-4d9d-fa87-3677f4a72a7b"
      },
      "source": [
        "# Plotting a few random observations\n",
        "j=1\n",
        "plt.figure(figsize=(15,7.5))\n",
        "for i in np.random.randint(0,len(x_tr),20):\n",
        "  plt.suptitle('Sample Images')\n",
        "  plt.subplot(4,5,j)\n",
        "  plt.imshow(np.reshape(x_tr[i],(28,28)))\n",
        "  j=j+1"
      ],
      "execution_count": 28,
      "outputs": [
        {
          "output_type": "display_data",
          "data": {
            "image/png": "[encoded data removed]",
            "text/plain": [
              "<Figure size 1080x540 with 20 Axes>"
            ]
          },
          "metadata": {
            "tags": [],
            "needs_background": "light"
          }
        }
      ]
    },
    {
      "cell_type": "markdown",
      "metadata": {
        "id": "Usj9lYrLpnDO"
      },
      "source": [
        "## We will now apply LDA and QDA models to predict the labels of the test data"
      ]
    },
    {
      "cell_type": "markdown",
      "metadata": {
        "id": "J9wVDfWPq1r9"
      },
      "source": [
        "# Linear Discriminant Analysis"
      ]
    },
    {
      "cell_type": "code",
      "metadata": {
        "id": "YYZl10nyq6GQ"
      },
      "source": [
        "# Required packages\n",
        "from sklearn.discriminant_analysis import LinearDiscriminantAnalysis\n",
        "from sklearn import metrics"
      ],
      "execution_count": 29,
      "outputs": []
    },
    {
      "cell_type": "code",
      "metadata": {
        "id": "X-ZZGdmNq9If"
      },
      "source": [
        "# Defining the linear discriminant model\n",
        "lin_clf=LinearDiscriminantAnalysis()"
      ],
      "execution_count": 30,
      "outputs": []
    },
    {
      "cell_type": "code",
      "metadata": {
        "colab": {
          "base_uri": "https://localhost:8080/"
        },
        "id": "Yb7r8NpzrCUn",
        "outputId": "5da421a4-b93c-4f6e-b943-cf264d35e865"
      },
      "source": [
        "# Fitting the given training data\n",
        "lin_clf.fit(x_tr,y_tr)"
      ],
      "execution_count": 31,
      "outputs": [
        {
          "output_type": "stream",
          "text": [
            "/usr/local/lib/python3.7/dist-packages/sklearn/utils/validation.py:760: DataConversionWarning: A column-vector y was passed when a 1d array was expected. Please change the shape of y to (n_samples, ), for example using ravel().\n",
            "  y = column_or_1d(y, warn=True)\n"
          ],
          "name": "stderr"
        },
        {
          "output_type": "execute_result",
          "data": {
            "text/plain": [
              "LinearDiscriminantAnalysis(n_components=None, priors=None, shrinkage=None,\n",
              "                           solver='svd', store_covariance=False, tol=0.0001)"
            ]
          },
          "metadata": {
            "tags": []
          },
          "execution_count": 31
        }
      ]
    },
    {
      "cell_type": "code",
      "metadata": {
        "id": "ckCAbwrprJnJ"
      },
      "source": [
        "y_tr_lda=lin_clf.predict(x_tr) # Predicting the labels for the observations on the training set\n",
        "y_pred_lda=lin_clf.predict(x_t) # Predicting the labels for the observations in the test set"
      ],
      "execution_count": 32,
      "outputs": []
    },
    {
      "cell_type": "code",
      "metadata": {
        "colab": {
          "base_uri": "https://localhost:8080/"
        },
        "id": "3kyneLmPrpOq",
        "outputId": "6bf7b8c2-a417-41d0-a121-7570621b52b6"
      },
      "source": [
        "print(f'The training accuracy of the LDA model is:',metrics.accuracy_score(y_tr,y_tr_lda))\n",
        "print(f'The Test accuracy of the LDA model is:',metrics.accuracy_score(y_t,y_pred_lda))"
      ],
      "execution_count": 33,
      "outputs": [
        {
          "output_type": "stream",
          "text": [
            "The training accuracy of the LDA model is: 0.7299516129032259\n",
            "The Test accuracy of the LDA model is: 0.5841\n"
          ],
          "name": "stdout"
        }
      ]
    },
    {
      "cell_type": "markdown",
      "metadata": {
        "id": "bpE4Eg90s9SE"
      },
      "source": [
        "Note that the test accuracy for predicting the test data of rotated dataset when the model was built using unrotated data set (in the notebook <a href=\"https://github.com/shubha3/Senior-Mentorship-Summer-Project-2021/blob/main/Application-on-Unrotated-data/LDA-QDA/MNIST_LDA_QDA.ipynb\">here</a>) was 9.39%. Here when model is build using both types of data, the test accuracy is much higher.<br><br>\n",
        "However, the test accuracy when predicting unrotated data set using the same model was 87.22% whereas here it is merely 58.41%. This drop can be attributed to the following fact:<ul><li>The unrotated training set has 50000 observations and that of rotated is 12000. Thus rotated data accounts for 19.35% of the training set used for model building</li>\n",
        "<li>The unrotated test set has 10000 observations which is same as the number of observations from the rotated test set. Thus rotated data accounts for 50% of the total number of test set used in prediction.</li><li> Thus since we have an evident lack of rotated data used in fitting the model, we end up misclassifying most of the data in the test set which has a higher proportion of rotated observations</li></ul>"
      ]
    },
    {
      "cell_type": "markdown",
      "metadata": {
        "id": "ReojPw1Kw9D-"
      },
      "source": [
        "# Quadratic Discriminant Analysis"
      ]
    },
    {
      "cell_type": "code",
      "metadata": {
        "id": "8W_AM2GfxDDk"
      },
      "source": [
        "# Required packages\n",
        "from sklearn.discriminant_analysis import QuadraticDiscriminantAnalysis"
      ],
      "execution_count": 42,
      "outputs": []
    },
    {
      "cell_type": "code",
      "metadata": {
        "id": "i9KzlqlDxGoc"
      },
      "source": [
        "# Defining the linear discriminant model\n",
        "quad_clf=QuadraticDiscriminantAnalysis()"
      ],
      "execution_count": 45,
      "outputs": []
    },
    {
      "cell_type": "code",
      "metadata": {
        "colab": {
          "base_uri": "https://localhost:8080/"
        },
        "id": "tROEjOq8xxnl",
        "outputId": "20a76b99-0cee-451c-87a6-9a09e9da9c1a"
      },
      "source": [
        "len(y_tr)"
      ],
      "execution_count": 47,
      "outputs": [
        {
          "output_type": "execute_result",
          "data": {
            "text/plain": [
              "62000"
            ]
          },
          "metadata": {
            "tags": []
          },
          "execution_count": 47
        }
      ]
    },
    {
      "cell_type": "code",
      "metadata": {
        "colab": {
          "base_uri": "https://localhost:8080/"
        },
        "id": "44RH2ZFDxPAF",
        "outputId": "d21be3e4-bf9a-40d8-c3eb-71c4b0213389"
      },
      "source": [
        "# Fitting the data\n",
        "quad_clf.fit(x_tr,y_tr)"
      ],
      "execution_count": 49,
      "outputs": [
        {
          "output_type": "stream",
          "text": [
            "/usr/local/lib/python3.7/dist-packages/sklearn/utils/validation.py:760: DataConversionWarning: A column-vector y was passed when a 1d array was expected. Please change the shape of y to (n_samples, ), for example using ravel().\n",
            "  y = column_or_1d(y, warn=True)\n",
            "/usr/local/lib/python3.7/dist-packages/sklearn/discriminant_analysis.py:691: UserWarning: Variables are collinear\n",
            "  warnings.warn(\"Variables are collinear\")\n"
          ],
          "name": "stderr"
        },
        {
          "output_type": "execute_result",
          "data": {
            "text/plain": [
              "QuadraticDiscriminantAnalysis(priors=None, reg_param=0.0,\n",
              "                              store_covariance=False, tol=0.0001)"
            ]
          },
          "metadata": {
            "tags": []
          },
          "execution_count": 49
        }
      ]
    },
    {
      "cell_type": "code",
      "metadata": {
        "id": "fdsJ7qXzyCBd"
      },
      "source": [
        "y_tr_qda=quad_clf.predict(x_tr) # Predicting the labels for the observations on the training set\n",
        "y_pred_qda=quad_clf.predict(x_t) # Predicting the labels for the observations in the test set"
      ],
      "execution_count": 51,
      "outputs": []
    },
    {
      "cell_type": "code",
      "metadata": {
        "colab": {
          "base_uri": "https://localhost:8080/"
        },
        "id": "3iT0BP-UygMn",
        "outputId": "c5b21016-c34a-4504-cf0e-7fa3b755bcf2"
      },
      "source": [
        "print(f'The train accuracy of QDA model is:',metrics.accuracy_score(y_tr,y_tr_qda))\n",
        "print(f'The test accuracy  of QDA model is:',metrics.accuracy_score(y_t,y_pred_qda))"
      ],
      "execution_count": 52,
      "outputs": [
        {
          "output_type": "stream",
          "text": [
            "The train accuracy of QDA model is: 0.31690322580645164\n",
            "The test accuracy  of QDA model is: 0.17125\n"
          ],
          "name": "stdout"
        }
      ]
    },
    {
      "cell_type": "markdown",
      "metadata": {
        "id": "SlCE5W3Qzh2J"
      },
      "source": [
        "Apart from the indication that the data (merged along with unrotated data) might not be inherently linearly separable, which has been discussed in the other notebook <a href=\"https://github.com/shubha3/Senior-Mentorship-Summer-Project-2021/blob/main/Application-on-Unrotated-data/LDA-QDA/MNIST_LDA_QDA.ipynb\">here</a>, we also can conclude similarly as the one done in case of LDA that a disproportionate existence of rotated data in training and test observations yields a lower test accuracy that the one observed in the other notebook (modelled using unrotated data and tested on unrotated data, <a href=\"https://github.com/shubha3/Senior-Mentorship-Summer-Project-2021/blob/main/Application-on-Unrotated-data/LDA-QDA/MNIST_LDA_QDA.ipynb\">here</a>).<br><br> However since we are training the model using rotated data, we get a higher test accuracy of 17.13% than 9.97% obtained when rotated observations were subject to prediction using model training on unrotated data."
      ]
    },
    {
      "cell_type": "markdown",
      "metadata": {
        "id": "4AYC9uYt1Ym9"
      },
      "source": [
        "# Applying LDA and QDA using Principal Components"
      ]
    },
    {
      "cell_type": "markdown",
      "metadata": {
        "id": "KM1p0QVV1a4y"
      },
      "source": [
        "We first standardize the features"
      ]
    },
    {
      "cell_type": "code",
      "metadata": {
        "id": "nQ0blzpm1fGB"
      },
      "source": [
        "from sklearn.preprocessing import StandardScaler\n",
        "scaler = StandardScaler()\n",
        "# Fit on training set only.\n",
        "scaler.fit(x_tr)\n",
        "# Apply transform to both the training set\n",
        "x_sc = scaler.transform(x_tr)\n",
        "\n",
        "# Fit on test set only.\n",
        "scaler.fit(x_t)\n",
        "# Apply transform to both the training set\n",
        "x_t_sc = scaler.transform(x_t)"
      ],
      "execution_count": 53,
      "outputs": []
    },
    {
      "cell_type": "markdown",
      "metadata": {
        "id": "j8g2XleL3i78"
      },
      "source": [
        "We will be using that many principal components which account for 90% of the variability in the feature space."
      ]
    },
    {
      "cell_type": "code",
      "metadata": {
        "colab": {
          "base_uri": "https://localhost:8080/"
        },
        "id": "KRpvCpzN36p0",
        "outputId": "ea00978d-0b68-4cdc-f52d-638b54b046bb"
      },
      "source": [
        "from sklearn.decomposition import PCA\n",
        "pca=PCA(0.9)\n",
        "p_comp=pca.fit_transform(x_sc)\n",
        "print(f'The number of principal components accounting 90% of the variability in our feature space:',pca.n_components_)"
      ],
      "execution_count": 58,
      "outputs": [
        {
          "output_type": "stream",
          "text": [
            "The number of principal components accounting 90% of the variability in our feature space: 200\n"
          ],
          "name": "stdout"
        }
      ]
    },
    {
      "cell_type": "markdown",
      "metadata": {
        "id": "XrCs-Ufw8DcP"
      },
      "source": [
        "Thus we will be using the first 200 principal components in our new model."
      ]
    },
    {
      "cell_type": "code",
      "metadata": {
        "colab": {
          "base_uri": "https://localhost:8080/"
        },
        "id": "YCshLdZX8Kvp",
        "outputId": "befcc9e2-f134-4397-c344-fdfa0cb5c46f"
      },
      "source": [
        "lin_clf=LinearDiscriminantAnalysis()\n",
        "quad_clf=QuadraticDiscriminantAnalysis()\n",
        "lin_clf.fit(p_comp,y_tr)  # Fitting the LDA model\n",
        "quad_clf.fit(p_comp,y_tr) # Fitting the QDA model"
      ],
      "execution_count": 60,
      "outputs": [
        {
          "output_type": "stream",
          "text": [
            "/usr/local/lib/python3.7/dist-packages/sklearn/utils/validation.py:760: DataConversionWarning: A column-vector y was passed when a 1d array was expected. Please change the shape of y to (n_samples, ), for example using ravel().\n",
            "  y = column_or_1d(y, warn=True)\n",
            "/usr/local/lib/python3.7/dist-packages/sklearn/utils/validation.py:760: DataConversionWarning: A column-vector y was passed when a 1d array was expected. Please change the shape of y to (n_samples, ), for example using ravel().\n",
            "  y = column_or_1d(y, warn=True)\n"
          ],
          "name": "stderr"
        },
        {
          "output_type": "execute_result",
          "data": {
            "text/plain": [
              "QuadraticDiscriminantAnalysis(priors=None, reg_param=0.0,\n",
              "                              store_covariance=False, tol=0.0001)"
            ]
          },
          "metadata": {
            "tags": []
          },
          "execution_count": 60
        }
      ]
    },
    {
      "cell_type": "code",
      "metadata": {
        "id": "JyuHxyga8z9Q"
      },
      "source": [
        "# We fix the loadings in the direction of the training data feature space principal components\n",
        "pca=PCA(n_components=200)\n",
        "p_comp=pca.fit(x_sc)"
      ],
      "execution_count": 62,
      "outputs": []
    },
    {
      "cell_type": "code",
      "metadata": {
        "id": "3mn_abGZIds-"
      },
      "source": [
        "x_test_pc=pca.transform(x_t_sc)   # Evaluating the first 200 principal components of test feature space"
      ],
      "execution_count": 64,
      "outputs": []
    },
    {
      "cell_type": "code",
      "metadata": {
        "id": "Xn8-xUnPIqfM"
      },
      "source": [
        "y_pc_lda_test=lin_clf.predict(x_test_pc)    # Predicting the labels of test data set using LDA model\n",
        "y_pc_qda_test=quad_clf.predict(x_test_pc)   # Predicting the labels of test data set using QDA model"
      ],
      "execution_count": 66,
      "outputs": []
    },
    {
      "cell_type": "code",
      "metadata": {
        "colab": {
          "base_uri": "https://localhost:8080/"
        },
        "id": "24-Ei53TI2vW",
        "outputId": "6b15fb6e-56b3-4bd3-ab4c-d77112fde115"
      },
      "source": [
        "print(f'The test accuracy of LDA using first 200 principal components is', metrics.accuracy_score(y_t,y_pc_lda_test))\n",
        "print(f'The test accuracy of QDA using first 200 principal components is', metrics.accuracy_score(y_t,y_pc_qda_test))"
      ],
      "execution_count": 67,
      "outputs": [
        {
          "output_type": "stream",
          "text": [
            "The test accuracy of LDA using first 200 principal components is 0.5676\n",
            "The test accuracy of QDA using first 200 principal components is 0.1498\n"
          ],
          "name": "stdout"
        }
      ]
    },
    {
      "cell_type": "markdown",
      "metadata": {
        "id": "mHHhOlcGJLMx"
      },
      "source": [
        "We see that using the first 200 principal components the LDA model is not affected much (though the test accuracy decreases slightly). The QDA model performs badly as seen in the regular model as well as the merged dataset cases."
      ]
    }
  ]
}